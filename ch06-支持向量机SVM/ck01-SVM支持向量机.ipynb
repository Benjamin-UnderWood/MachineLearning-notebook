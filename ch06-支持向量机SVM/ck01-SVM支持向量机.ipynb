{
 "cells": [
  {
   "cell_type": "markdown",
   "metadata": {},
   "source": [
    "## 支持向量机\n",
    "有条件的最优化问题\n",
    "\n",
    "\n",
    "拉普拉斯算子\n",
    "\n",
    "\n",
    "SVM思想，到形式化表达，转到数学上求最优化问题！\n",
    "\n",
    "求w，b可知\n",
    "\n",
    "soft 可以犯一定错误！\n",
    "\n",
    "在多维空间是个超平面\n",
    "\n"
   ]
  },
  {
   "cell_type": "markdown",
   "metadata": {},
   "source": [
    "![](images/bk-01.png)\n",
    "![](images/bk-02.png)\n",
    "![](images/bk-03.png)"
   ]
  },
  {
   "cell_type": "markdown",
   "metadata": {},
   "source": []
  }
 ],
 "metadata": {
  "kernelspec": {
   "display_name": "Python 3",
   "language": "python",
   "name": "python3"
  },
  "language_info": {
   "codemirror_mode": {
    "name": "ipython",
    "version": 3
   },
   "file_extension": ".py",
   "mimetype": "text/x-python",
   "name": "python",
   "nbconvert_exporter": "python",
   "pygments_lexer": "ipython3",
   "version": "3.6.5"
  }
 },
 "nbformat": 4,
 "nbformat_minor": 2
}
