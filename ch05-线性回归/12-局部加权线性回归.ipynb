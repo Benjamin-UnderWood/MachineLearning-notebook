{
 "cells": [
  {
   "cell_type": "markdown",
   "metadata": {},
   "source": [
    "# 局部加权线性回归"
   ]
  },
  {
   "cell_type": "code",
   "execution_count": 5,
   "metadata": {},
   "outputs": [],
   "source": [
    "import numpy as np\n",
    "import matplotlib.pylab as plt\n",
    "from numpy import *"
   ]
  },
  {
   "cell_type": "markdown",
   "metadata": {},
   "source": [
    "### 加载数据"
   ]
  },
  {
   "cell_type": "code",
   "execution_count": 2,
   "metadata": {},
   "outputs": [],
   "source": [
    "def loadDataSet(fileName):                 \n",
    "    \"\"\" 加载数据\n",
    "        解析以tab键分隔的文件中的浮点数\n",
    "    Returns：\n",
    "        dataMat ：  feature 对应的数据集\n",
    "        labelMat ： feature 对应的分类标签，即类别标签\n",
    "\n",
    "    \"\"\"\n",
    "    # 获取样本特征的总数，不算最后的目标变量 \n",
    "    numFeat = len(open(fileName).readline().split('\\t')) - 1 \n",
    "    dataMat = []\n",
    "    labelMat = []\n",
    "    fr = open(fileName)\n",
    "    for line in fr.readlines():\n",
    "        # 读取每一行\n",
    "        lineArr =[]\n",
    "        # 删除一行中以tab分隔的数据前后的空白符号\n",
    "        curLine = line.strip().split('\\t')\n",
    "        # i 从0到2，不包括2 \n",
    "        for i in range(numFeat):\n",
    "            # 将数据添加到lineArr List中，每一行数据测试数据组成一个行向量           \n",
    "            lineArr.append(float(curLine[i]))\n",
    "            # 将测试数据的输入数据部分存储到dataMat 的List中\n",
    "        dataMat.append(lineArr)\n",
    "        # 将每一行的最后一个数据，即类别，或者叫目标变量存储到labelMat List中\n",
    "        labelMat.append(float(curLine[-1]))\n",
    "    return dataMat,labelMat"
   ]
  },
  {
   "cell_type": "code",
   "execution_count": 20,
   "metadata": {},
   "outputs": [],
   "source": [
    "xArr, yArr = loadDataSet(\"8.Regression/data.txt\")"
   ]
  },
  {
   "cell_type": "code",
   "execution_count": 23,
   "metadata": {},
   "outputs": [],
   "source": [
    "xMat = mat(xArr)"
   ]
  },
  {
   "cell_type": "code",
   "execution_count": 25,
   "metadata": {},
   "outputs": [
    {
     "data": {
      "text/plain": [
       "200"
      ]
     },
     "execution_count": 25,
     "metadata": {},
     "output_type": "execute_result"
    }
   ],
   "source": [
    "m = shape(xMat)[0]\n",
    "m"
   ]
  },
  {
   "cell_type": "code",
   "execution_count": 42,
   "metadata": {},
   "outputs": [
    {
     "data": {
      "text/plain": [
       "matrix([[1., 0., 0., ..., 0., 0., 0.],\n",
       "        [0., 1., 0., ..., 0., 0., 0.],\n",
       "        [0., 0., 1., ..., 0., 0., 0.],\n",
       "        ...,\n",
       "        [0., 0., 0., ..., 1., 0., 0.],\n",
       "        [0., 0., 0., ..., 0., 1., 0.],\n",
       "        [0., 0., 0., ..., 0., 0., 1.]])"
      ]
     },
     "execution_count": 42,
     "metadata": {},
     "output_type": "execute_result"
    }
   ],
   "source": [
    "mat(eye((m)))"
   ]
  },
  {
   "cell_type": "markdown",
   "metadata": {},
   "source": [
    "## 线性回归"
   ]
  },
  {
   "cell_type": "code",
   "execution_count": 4,
   "metadata": {},
   "outputs": [],
   "source": [
    "def standRegres(xArr,yArr):\n",
    "    '''\n",
    "    Description：\n",
    "        线性回归\n",
    "    Args:\n",
    "        xArr ：输入的样本数据，包含每个样本数据的 feature\n",
    "        yArr ：对应于输入数据的类别标签，也就是每个样本对应的目标变量\n",
    "    Returns:\n",
    "        ws：回归系数\n",
    "    '''\n",
    "\n",
    "    # mat()函数将xArr，yArr转换为矩阵 mat().T 代表的是对矩阵进行转置操作\n",
    "    xMat = mat(xArr)\n",
    "    yMat = mat(yArr).T\n",
    "    # 矩阵乘法的条件是左矩阵的列数等于右矩阵的行数\n",
    "    xTx = xMat.T*xMat\n",
    "    # 因为要用到xTx的逆矩阵，所以事先需要确定计算得到的xTx是否可逆，条件是矩阵的行列式不为0\n",
    "    # linalg.det() 函数是用来求得矩阵的行列式的，如果矩阵的行列式为0，则这个矩阵是不可逆的，就无法进行接下来的运算                   \n",
    "    if linalg.det(xTx) == 0.0:\n",
    "        print(\"This matrix is singular, cannot do inverse\")\n",
    "        return\n",
    "    # 最小二乘法\n",
    "    # http://www.apache.wiki/pages/viewpage.action?pageId=5505133\n",
    "    # 书中的公式，求得w的最优解\n",
    "    ws = xTx.I * (xMat.T*yMat)            \n",
    "    return ws"
   ]
  },
  {
   "cell_type": "markdown",
   "metadata": {},
   "source": [
    "## 局部加权线性回归"
   ]
  },
  {
   "cell_type": "code",
   "execution_count": 5,
   "metadata": {},
   "outputs": [],
   "source": [
    "def lwlr(testPoint,xArr,yArr,k=1.0):\n",
    "    '''\n",
    "        Description：\n",
    "            局部加权线性回归，在待预测点附近的每个点赋予一定的权重，在子集上基于最小均方差来进行普通的回归。\n",
    "        Args：\n",
    "            testPoint：样本点\n",
    "            xArr：样本的特征数据，即 feature\n",
    "            yArr：每个样本对应的类别标签，即目标变量\n",
    "            k:关于赋予权重矩阵的核的一个参数，与权重的衰减速率有关\n",
    "        Returns:\n",
    "            testPoint * ws：数据点与具有权重的系数相乘得到的预测点\n",
    "        Notes:\n",
    "            这其中会用到计算权重的公式，w = e^((x^((i))-x) / -2k^2)\n",
    "            理解：x为某个预测点，x^((i))为样本点，样本点距离预测点越近，贡献的误差越大（权值越大），越远则贡献的误差越小（权值越小）。\n",
    "            关于预测点的选取，在我的代码中取的是样本点。其中k是带宽参数，控制w（钟形函数）的宽窄程度，类似于高斯函数的标准差。\n",
    "            算法思路：假设预测点取样本点中的第i个样本点（共m个样本点），遍历1到m个样本点（含第i个），算出每一个样本点与预测点的距离，\n",
    "            也就可以计算出每个样本贡献误差的权值，可以看出w是一个有m个元素的向量（写成对角阵形式）。\n",
    "    '''\n",
    "    # mat() 函数是将array转换为矩阵的函数， mat().T 是转换为矩阵之后，再进行转置操作\n",
    "    xMat = mat(xArr)\n",
    "    yMat = mat(yArr).T\n",
    "    # 获得xMat矩阵的行数\n",
    "    m = shape(xMat)[0]\n",
    "    # eye()返回一个对角线元素为1，其他元素为0的二维数组，创建权重矩阵weights，该矩阵为每个样本点初始化了一个权重                   \n",
    "    weights = mat(eye((m)))  # 200 x 200\n",
    "    for j in range(m):\n",
    "        # testPoint 的形式是 一个行向量的形式\n",
    "        # 计算 testPoint 与输入样本点之间的距离，然后下面计算出每个样本贡献误差的权值\n",
    "        # 1x2 - \n",
    "        diffMat = testPoint - xMat[j,:]\n",
    "        # k控制衰减的速度\n",
    "        weights[j,j] = exp(diffMat*diffMat.T/(-2.0*k**2))\n",
    "    # 根据矩阵乘法计算 xTx ，其中的 weights 矩阵是样本点对应的权重矩阵\n",
    "    xTx = xMat.T * (weights * xMat)\n",
    "    if linalg.det(xTx) == 0.0:\n",
    "        print(\"This matrix is singular, cannot do inverse\")\n",
    "        return\n",
    "    # 计算出回归系数的一个估计  每次都要不一样\n",
    "    ws = xTx.I * (xMat.T * (weights * yMat))\n",
    "    return testPoint * ws\n",
    "\n",
    "\n",
    "def lwlrTest(testArr,xArr,yArr,k=1.0):\n",
    "    '''\n",
    "        Description：\n",
    "            测试局部加权线性回归，对数据集中每个点调用 lwlr() 函数\n",
    "        Args：\n",
    "            testArr：测试所用的所有样本点\n",
    "            xArr：样本的特征数据，即 feature\n",
    "            yArr：每个样本对应的类别标签，即目标变量\n",
    "            k：控制核函数的衰减速率\n",
    "        Returns：\n",
    "            yHat：预测点的估计值\n",
    "    '''\n",
    "    # 得到样本点的总数\n",
    "    m = shape(testArr)[0]\n",
    "    # 构建一个全部都是 0 的 1 * m 的矩阵\n",
    "    yHat = zeros(m)\n",
    "    # 循环所有的数据点，并将lwlr运用于所有的数据点 \n",
    "    for i in range(m):\n",
    "        yHat[i] = lwlr(testArr[i],xArr,yArr,k)\n",
    "    # 返回估计值\n",
    "    return yHat\n",
    "\n",
    "def lwlrTestPlot(xArr,yArr,k=1.0):  \n",
    "    '''\n",
    "        Description:\n",
    "            首先将 X 排序，其余的都与lwlrTest相同，这样更容易绘图\n",
    "        Args：\n",
    "            xArr：样本的特征数据，即 feature\n",
    "            yArr：每个样本对应的类别标签，即目标变量，实际值\n",
    "            k：控制核函数的衰减速率的有关参数，这里设定的是常量值 1\n",
    "        Return：\n",
    "            yHat：样本点的估计值\n",
    "            xCopy：xArr的复制\n",
    "    '''\n",
    "    # 生成一个与目标变量数目相同的 0 向量\n",
    "    yHat = zeros(shape(yArr))\n",
    "    # 将 xArr 转换为 矩阵形式\n",
    "    xCopy = mat(xArr)\n",
    "    # 排序\n",
    "    xCopy.sort(0)\n",
    "    # 开始循环，为每个样本点进行局部加权线性回归，得到最终的目标变量估计值\n",
    "    for i in range(shape(xArr)[0]):\n",
    "        yHat[i] = lwlr(xCopy[i],xArr,yArr,k)\n",
    "    return yHat,xCopy"
   ]
  },
  {
   "cell_type": "code",
   "execution_count": 6,
   "metadata": {},
   "outputs": [],
   "source": [
    "#test for LWLR\n",
    "def regression2(k):\n",
    "    xArr, yArr = loadDataSet(\"8.Regression/data.txt\")\n",
    "    yHat = lwlrTest(xArr, xArr, yArr, k)\n",
    "    xMat = mat(xArr)\n",
    "    srtInd = xMat[:,1].argsort(0)           #argsort()函数是将x中的元素从小到大排列，提取其对应的index(索引)，然后输出\n",
    "    xSort=xMat[srtInd][:,0,:]\n",
    "    fig = plt.figure()\n",
    "    ax = fig.add_subplot(111)\n",
    "    ax.plot(xSort[:,1], yHat[srtInd])\n",
    "    ax.scatter(xMat[:,1].flatten().A[0], mat(yArr).T.flatten().A[0] , s=2, c='red')\n",
    "    plt.show()"
   ]
  },
  {
   "cell_type": "code",
   "execution_count": 4,
   "metadata": {},
   "outputs": [],
   "source": [
    "xArr, yArr = loadDataSet(\"8.Regression/data.txt\")"
   ]
  },
  {
   "cell_type": "code",
   "execution_count": 16,
   "metadata": {},
   "outputs": [
    {
     "data": {
      "text/plain": [
       "200"
      ]
     },
     "execution_count": 16,
     "metadata": {},
     "output_type": "execute_result"
    }
   ],
   "source": [
    "len(xArr)"
   ]
  },
  {
   "cell_type": "code",
   "execution_count": 39,
   "metadata": {},
   "outputs": [
    {
     "data": {
      "image/png": "[encoded data removed]",
      "text/plain": [
       "<Figure size 432x288 with 1 Axes>"
      ]
     },
     "metadata": {},
     "output_type": "display_data"
    }
   ],
   "source": [
    "regression2(0.003)"
   ]
  },
  {
   "cell_type": "code",
   "execution_count": 40,
   "metadata": {},
   "outputs": [
    {
     "data": {
      "image/png": "[encoded data removed]",
      "text/plain": [
       "<Figure size 432x288 with 1 Axes>"
      ]
     },
     "metadata": {},
     "output_type": "display_data"
    }
   ],
   "source": [
    "regression2(1.0)"
   ]
  },
  {
   "cell_type": "code",
   "execution_count": 41,
   "metadata": {
    "scrolled": true
   },
   "outputs": [
    {
     "data": {
      "image/png": "[encoded data removed]",
      "text/plain": [
       "<Figure size 432x288 with 1 Axes>"
      ]
     },
     "metadata": {},
     "output_type": "display_data"
    }
   ],
   "source": [
    "regression2(0.01)"
   ]
  },
  {
   "cell_type": "markdown",
   "metadata": {},
   "source": [
    "<br><br><br>"
   ]
  },
  {
   "cell_type": "markdown",
   "metadata": {},
   "source": [
    "# 使用局部线性回归预测鲍鱼年龄"
   ]
  },
  {
   "cell_type": "code",
   "execution_count": 20,
   "metadata": {},
   "outputs": [],
   "source": [
    "def rssError(yArr, yHatArr):\n",
    "    '''\n",
    "        Desc:\n",
    "            计算分析预测误差的大小\n",
    "        Args:\n",
    "            yArr：真实的目标变量\n",
    "            yHatArr：预测得到的估计值\n",
    "        Returns:\n",
    "            计算真实值和估计值得到的值的平方和作为最后的返回值\n",
    "    '''\n",
    "    return ((yArr - yHatArr) ** 2).sum()"
   ]
  },
  {
   "cell_type": "code",
   "execution_count": 21,
   "metadata": {},
   "outputs": [],
   "source": [
    "# test for abloneDataSet\n",
    "def abaloneTest():\n",
    "    '''\n",
    "    Desc:\n",
    "        预测鲍鱼的年龄\n",
    "    Args:\n",
    "        None\n",
    "    Returns:\n",
    "        None\n",
    "    '''\n",
    "    # 加载数据\n",
    "    abX, abY = loadDataSet(\"8.Regression/abalone.txt\")\n",
    "    # 使用不同的核进行预测\n",
    "    oldyHat01 = lwlrTest(abX[0:99], abX[0:99], abY[0:99], 0.1)\n",
    "    oldyHat1 = lwlrTest(abX[0:99], abX[0:99], abY[0:99], 1)\n",
    "    oldyHat10 = lwlrTest(abX[0:99], abX[0:99], abY[0:99], 10)   \n",
    "    # 打印出不同的核预测值与训练数据集上的真实值之间的误差大小\n",
    "    print(\"old yHat01 error Size is :\" , rssError(abY[0:99], oldyHat01.T))\n",
    "    print(\"old yHat1 error Size is :\" , rssError(abY[0:99], oldyHat1.T))\n",
    "    print(\"old yHat10 error Size is :\" , rssError(abY[0:99], oldyHat10.T))\n",
    "\n",
    "    # 打印出 不同的核预测值 与 新数据集（测试数据集）上的真实值之间的误差大小\n",
    "    newyHat01 = lwlrTest(abX[100:199], abX[0:99], abY[0:99], 0.1)\n",
    "    print(\"new yHat01 error Size is :\" , rssError(abY[0:99], newyHat01.T))\n",
    "    newyHat1 = lwlrTest(abX[100:199], abX[0:99], abY[0:99], 1)\n",
    "    print(\"new yHat1 error Size is :\" , rssError(abY[0:99], newyHat1.T))\n",
    "    newyHat10 = lwlrTest(abX[100:199], abX[0:99], abY[0:99], 10)\n",
    "    print(\"new yHat10 error Size is :\" , rssError(abY[0:99], newyHat10.T))\n",
    "\n",
    "    # 使用简单的 线性回归 进行预测，与上面的计算进行比较\n",
    "    standWs = standRegres(abX[0:99], abY[0:99])\n",
    "    standyHat = mat(abX[100:199]) * standWs\n",
    "    print(\"standRegress error Size is:\", rssError(abY[100:199], standyHat.T.A))"
   ]
  },
  {
   "cell_type": "code",
   "execution_count": 22,
   "metadata": {
    "scrolled": true
   },
   "outputs": [
    {
     "name": "stdout",
     "output_type": "stream",
     "text": [
      "old yHat01 error Size is : 56.78868743048742\n",
      "old yHat1 error Size is : 429.8905618704059\n",
      "old yHat10 error Size is : 549.1181708828803\n",
      "new yHat01 error Size is : 62452.59620515082\n",
      "new yHat1 error Size is : 3207.6896288234425\n",
      "new yHat10 error Size is : 3320.089210907004\n",
      "standRegress error Size is: 518.6363153245542\n"
     ]
    }
   ],
   "source": [
    "abaloneTest()"
   ]
  },
  {
   "cell_type": "code",
   "execution_count": 18,
   "metadata": {},
   "outputs": [
    {
     "name": "stdout",
     "output_type": "stream",
     "text": [
      "standRegress error Size is:%s, %s [1.0, 0.35, 0.265, 0.09, 0.2255, 0.0995, 0.0485, 0.07] 11\n"
     ]
    }
   ],
   "source": [
    "print(\"standRegress error Size is:\", abX[1], 11)"
   ]
  }
 ],
 "metadata": {
  "kernelspec": {
   "display_name": "Python 3",
   "language": "python",
   "name": "python3"
  },
  "language_info": {
   "codemirror_mode": {
    "name": "ipython",
    "version": 3
   },
   "file_extension": ".py",
   "mimetype": "text/x-python",
   "name": "python",
   "nbconvert_exporter": "python",
   "pygments_lexer": "ipython3",
   "version": "3.6.4rc1"
  }
 },
 "nbformat": 4,
 "nbformat_minor": 2
}
