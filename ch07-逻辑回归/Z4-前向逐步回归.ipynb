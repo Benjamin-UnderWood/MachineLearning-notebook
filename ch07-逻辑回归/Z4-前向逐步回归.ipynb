{
 "cells": [
  {
   "cell_type": "markdown",
   "metadata": {},
   "source": [
    "# 前向逐步回归"
   ]
  },
  {
   "cell_type": "code",
   "execution_count": 1,
   "metadata": {},
   "outputs": [],
   "source": [
    "import numpy as np\n",
    "import matplotlib.pylab as plt\n",
    "import pandas as pd\n",
    "from numpy import *"
   ]
  },
  {
   "cell_type": "markdown",
   "metadata": {},
   "source": [
    "### 加载数据"
   ]
  },
  {
   "cell_type": "code",
   "execution_count": 2,
   "metadata": {},
   "outputs": [],
   "source": [
    "def loadDataSet(fileName):                 \n",
    "    \"\"\" 加载数据\n",
    "        解析以tab键分隔的文件中的浮点数\n",
    "    Returns：\n",
    "        dataMat ：  feature 对应的数据集\n",
    "        labelMat ： feature 对应的分类标签，即类别标签\n",
    "\n",
    "    \"\"\"\n",
    "    # 获取样本特征的总数，不算最后的目标变量 \n",
    "    numFeat = len(open(fileName).readline().split('\\t')) - 1 \n",
    "    dataMat = []\n",
    "    labelMat = []\n",
    "    fr = open(fileName)\n",
    "    for line in fr.readlines():\n",
    "        # 读取每一行\n",
    "        lineArr =[]\n",
    "        # 删除一行中以tab分隔的数据前后的空白符号\n",
    "        curLine = line.strip().split('\\t')\n",
    "        # i 从0到2，不包括2 \n",
    "        for i in range(numFeat):\n",
    "            # 将数据添加到lineArr List中，每一行数据测试数据组成一个行向量           \n",
    "            lineArr.append(float(curLine[i]))\n",
    "            # 将测试数据的输入数据部分存储到dataMat 的List中\n",
    "        dataMat.append(lineArr)\n",
    "        # 将每一行的最后一个数据，即类别，或者叫目标变量存储到labelMat List中\n",
    "        labelMat.append(float(curLine[-1]))\n",
    "    return dataMat,labelMat"
   ]
  },
  {
   "cell_type": "code",
   "execution_count": 13,
   "metadata": {},
   "outputs": [],
   "source": [
    "def standRegres(xArr,yArr):\n",
    "    # mat()函数将xArr，yArr转换为矩阵 mat().T 代表的是对矩阵进行转置操作\n",
    "    xMat = mat(xArr)\n",
    "    yMat = mat(yArr).T\n",
    "    # 矩阵乘法的条件是左矩阵的列数等于右矩阵的行数\n",
    "    xTx = xMat.T*xMat\n",
    "    # 因为要用到xTx的逆矩阵，所以事先需要确定计算得到的xTx是否可逆，条件是矩阵的行列式不为0\n",
    "    # linalg.det() 函数是用来求得矩阵的行列式的，如果矩阵的行列式为0，则这个矩阵是不可逆的，就无法进行接下来的运算                   \n",
    "    if linalg.det(xTx) == 0.0:\n",
    "        print(\"This matrix is singular, cannot do inverse\")\n",
    "        return\n",
    "    # 最小二乘法，求得w的最优解\n",
    "    ws = xTx.I * (xMat.T*yMat)            \n",
    "    return ws"
   ]
  },
  {
   "cell_type": "code",
   "execution_count": 5,
   "metadata": {},
   "outputs": [],
   "source": [
    "def rssError(yArr, yHatArr):\n",
    "    return ((yArr - yHatArr) ** 2).sum()"
   ]
  },
  {
   "cell_type": "code",
   "execution_count": 7,
   "metadata": {},
   "outputs": [],
   "source": [
    "# 按列进行规范化\n",
    "def regularize(xMat):\n",
    "    inMat = xMat.copy()\n",
    "    inMeans = mean(inMat, 0)  # 计算平均值然后减去它\n",
    "    inVar = var(inMat, 0)  # 计算除以Xi的方差\n",
    "    inMat = (inMat - inMeans) / inVar\n",
    "    return inMat"
   ]
  },
  {
   "cell_type": "code",
   "execution_count": 27,
   "metadata": {},
   "outputs": [],
   "source": [
    "def stageWise(xArr,yArr,eps=0.01,numIt=100):\n",
    "    xMat = mat(xArr); yMat=mat(yArr).T\n",
    "    yMean = mean(yMat,0)\n",
    "    yMat = yMat - yMean     # 也可以规则化ys但会得到更小的coef\n",
    "    xMat = regularize(xMat)\n",
    "    m,n=shape(xMat)\n",
    "    returnMat = zeros((numIt,n)) # 测试代码删除\n",
    "    ws = zeros((n,1)); wsTest = ws.copy(); wsMax = ws.copy()\n",
    "    for i in range(numIt):\n",
    "        print (ws.T)\n",
    "        lowestError = inf; \n",
    "        for j in range(n):\n",
    "            for sign in [-1,1]:\n",
    "                wsTest = ws.copy()\n",
    "                wsTest[j] += eps*sign\n",
    "                yTest = xMat*wsTest\n",
    "                rssE = rssError(yMat.A,yTest.A)\n",
    "                if rssE < lowestError:\n",
    "                    lowestError = rssE\n",
    "                    wsMax = wsTest\n",
    "        ws = wsMax.copy()\n",
    "        returnMat[i,:]=ws.T\n",
    "    return returnMat\n",
    "\n",
    "\n",
    "#test for stageWise\n",
    "def regression4():\n",
    "    xArr,yArr=loadDataSet(\"8.Regression/abalone.txt\")\n",
    "    returnMat = stageWise(xArr,yArr,0.01,200)\n",
    "    \n",
    "    xMat = mat(xArr)\n",
    "    yMat = mat(yArr).T\n",
    "    xMat = regularize(xMat)\n",
    "    yM = mean(yMat,0)\n",
    "    yMat = yMat - yM\n",
    "    weights = standRegres(xMat, yMat.T)\n",
    "    return returnMat"
   ]
  },
  {
   "cell_type": "code",
   "execution_count": 32,
   "metadata": {},
   "outputs": [
    {
     "data": {
      "image/png": "[encoded data removed]",
      "text/plain": [
       "<Figure size 432x288 with 1 Axes>"
      ]
     },
     "metadata": {},
     "output_type": "display_data"
    }
   ],
   "source": [
    "fig = plt.figure()\n",
    "ax = fig.add_subplot(111)\n",
    "ax.plot(ridgeWeights)\n",
    "plt.show()"
   ]
  },
  {
   "cell_type": "code",
   "execution_count": 8,
   "metadata": {},
   "outputs": [
    {
     "data": {
      "text/plain": [
       "numpy.matrixlib.defmatrix.matrix"
      ]
     },
     "execution_count": 8,
     "metadata": {},
     "output_type": "execute_result"
    }
   ],
   "source": [
    "type(mat(eye(5)))"
   ]
  },
  {
   "cell_type": "code",
   "execution_count": 7,
   "metadata": {},
   "outputs": [
    {
     "data": {
      "text/plain": [
       "matrix([[1.]])"
      ]
     },
     "execution_count": 7,
     "metadata": {},
     "output_type": "execute_result"
    }
   ],
   "source": [
    "mat(eye(5))"
   ]
  },
  {
   "cell_type": "code",
   "execution_count": 12,
   "metadata": {},
   "outputs": [
    {
     "data": {
      "text/plain": [
       "numpy.ndarray"
      ]
     },
     "execution_count": 12,
     "metadata": {},
     "output_type": "execute_result"
    }
   ],
   "source": [
    "type(eye(5))"
   ]
  },
  {
   "cell_type": "code",
   "execution_count": null,
   "metadata": {},
   "outputs": [],
   "source": []
  }
 ],
 "metadata": {
  "kernelspec": {
   "display_name": "Python 3",
   "language": "python",
   "name": "python3"
  },
  "language_info": {
   "codemirror_mode": {
    "name": "ipython",
    "version": 3
   },
   "file_extension": ".py",
   "mimetype": "text/x-python",
   "name": "python",
   "nbconvert_exporter": "python",
   "pygments_lexer": "ipython3",
   "version": "3.6.4rc1"
  }
 },
 "nbformat": 4,
 "nbformat_minor": 2
}
