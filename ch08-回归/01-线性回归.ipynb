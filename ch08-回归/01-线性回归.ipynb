{
 "cells": [
  {
   "cell_type": "markdown",
   "metadata": {},
   "source": [
    "## 线性回归"
   ]
  },
  {
   "cell_type": "code",
   "execution_count": 9,
   "metadata": {},
   "outputs": [],
   "source": [
    "import numpy as np\n",
    "import matplotlib.pylab as plt\n",
    "from numpy import *"
   ]
  },
  {
   "cell_type": "code",
   "execution_count": 6,
   "metadata": {},
   "outputs": [],
   "source": [
    "def loadDataSet(fileName):                 \n",
    "    \"\"\" 加载数据\n",
    "        解析以tab键分隔的文件中的浮点数\n",
    "    Returns：\n",
    "        dataMat ：  feature 对应的数据集\n",
    "        labelMat ： feature 对应的分类标签，即类别标签\n",
    "\n",
    "    \"\"\"\n",
    "    # 获取样本特征的总数，不算最后的目标变量 \n",
    "    numFeat = len(open(fileName).readline().split('\\t')) - 1 \n",
    "    dataMat = []\n",
    "    labelMat = []\n",
    "    fr = open(fileName)\n",
    "    for line in fr.readlines():\n",
    "        # 读取每一行\n",
    "        lineArr =[]\n",
    "        # 删除一行中以tab分隔的数据前后的空白符号\n",
    "        curLine = line.strip().split('\\t')\n",
    "        # i 从0到2，不包括2 \n",
    "        for i in range(numFeat):\n",
    "            # 将数据添加到lineArr List中，每一行数据测试数据组成一个行向量           \n",
    "            lineArr.append(float(curLine[i]))\n",
    "            # 将测试数据的输入数据部分存储到dataMat 的List中\n",
    "        dataMat.append(lineArr)\n",
    "        # 将每一行的最后一个数据，即类别，或者叫目标变量存储到labelMat List中\n",
    "        labelMat.append(float(curLine[-1]))\n",
    "    return dataMat,labelMat\n",
    "\n",
    "\n",
    "def standRegres(xArr,yArr):\n",
    "    '''\n",
    "    Description：\n",
    "        线性回归\n",
    "    Args:\n",
    "        xArr ：输入的样本数据，包含每个样本数据的 feature\n",
    "        yArr ：对应于输入数据的类别标签，也就是每个样本对应的目标变量\n",
    "    Returns:\n",
    "        ws：回归系数\n",
    "    '''\n",
    "\n",
    "    # mat()函数将xArr，yArr转换为矩阵 mat().T 代表的是对矩阵进行转置操作\n",
    "    xMat = mat(xArr)\n",
    "    yMat = mat(yArr).T\n",
    "    # 矩阵乘法的条件是左矩阵的列数等于右矩阵的行数\n",
    "    xTx = xMat.T*xMat\n",
    "    # 因为要用到xTx的逆矩阵，所以事先需要确定计算得到的xTx是否可逆，条件是矩阵的行列式不为0\n",
    "    # linalg.det() 函数是用来求得矩阵的行列式的，如果矩阵的行列式为0，则这个矩阵是不可逆的，就无法进行接下来的运算                   \n",
    "    if linalg.det(xTx) == 0.0:\n",
    "        print(\"This matrix is singular, cannot do inverse\")\n",
    "        return\n",
    "    # 最小二乘法\n",
    "    # http://www.apache.wiki/pages/viewpage.action?pageId=5505133\n",
    "    # 书中的公式，求得w的最优解\n",
    "    ws = xTx.I * (xMat.T*yMat)            \n",
    "    return ws\n"
   ]
  },
  {
   "cell_type": "code",
   "execution_count": 15,
   "metadata": {},
   "outputs": [],
   "source": [
    "def regression1():\n",
    "    xArr, yArr = loadDataSet(\"8.Regression/data.txt\")\n",
    "    xMat = mat(xArr)\n",
    "    yMat = mat(yArr)\n",
    "    ws = standRegres(xArr, yArr)\n",
    "    fig = plt.figure()\n",
    "    ax = fig.add_subplot(111)               #add_subplot(349)函数的参数的意思是，将画布分成3行4列图像画在从左到右从上到下第9块\n",
    "    ax.scatter(xMat[:, 1].flatten().A[0], yMat.T[:, 0].flatten().A[0]) #scatter 的x是xMat中的第二列，y是yMat的第一列\n",
    "    xCopy = xMat.copy() \n",
    "    xCopy.sort(0)\n",
    "    yHat = xCopy * ws\n",
    "    ax.plot(xCopy[:, 1], yHat)\n",
    "    plt.show()"
   ]
  },
  {
   "cell_type": "code",
   "execution_count": 12,
   "metadata": {},
   "outputs": [],
   "source": [
    "xArr, yArr = loadDataSet(\"8.Regression/data.txt\")"
   ]
  },
  {
   "cell_type": "code",
   "execution_count": 16,
   "metadata": {},
   "outputs": [
    {
     "data": {
      "image/png": "[encoded data removed]",
      "text/plain": [
       "<matplotlib.figure.Figure at 0x10524c048>"
      ]
     },
     "metadata": {},
     "output_type": "display_data"
    }
   ],
   "source": [
    "regression1()"
   ]
  },
  {
   "cell_type": "code",
   "execution_count": null,
   "metadata": {},
   "outputs": [],
   "source": []
  }
 ],
 "metadata": {
  "kernelspec": {
   "display_name": "Python 3",
   "language": "python",
   "name": "python3"
  },
  "language_info": {
   "codemirror_mode": {
    "name": "ipython",
    "version": 3
   },
   "file_extension": ".py",
   "mimetype": "text/x-python",
   "name": "python",
   "nbconvert_exporter": "python",
   "pygments_lexer": "ipython3",
   "version": "3.6.4rc1"
  }
 },
 "nbformat": 4,
 "nbformat_minor": 2
}
