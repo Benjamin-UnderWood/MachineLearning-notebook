{
 "cells": [
  {
   "cell_type": "markdown",
   "metadata": {},
   "source": [
    "## 人工神经网络\n",
    "- 输入层\n",
    "- 输出层\n",
    "- 隐藏层\n",
    "---\n",
    "- 强化特征效果，隐藏层可以有多层！\n",
    "- 隐藏层依赖输入层\n",
    "- 输出层依赖隐藏层\n",
    "\n",
    "![](images/01-neural-network.png)"
   ]
  },
  {
   "cell_type": "markdown",
   "metadata": {},
   "source": [
    "### 特征工程（方向）\n",
    "- 专门的处理特征，特征选择\n",
    "- PCA减少无用特征，冗余数据，保留最重要特征\n",
    "- 更高形式特征，比较高层的特征\n",
    "- 补特征\n",
    "- 人工干预做特征选择"
   ]
  },
  {
   "cell_type": "markdown",
   "metadata": {},
   "source": [
    "- 每个神经元，作用不一样\n",
    "- 提高前面分类的准确性🌟\n",
    "- 多层 layer"
   ]
  },
  {
   "cell_type": "markdown",
   "metadata": {},
   "source": [
    "梯度下降\\反向传播"
   ]
  },
  {
   "cell_type": "markdown",
   "metadata": {},
   "source": [
    "### 80世纪就出现，为什么现在才火\n",
    "- 到底选几层呢？\n",
    "    - 缺少数学证明\n",
    "- 其他简单机器学习模型，准确性已经很好了\n",
    "- 人工神经网络计算量实在太大了\n",
    "    - 相邻layer之间每个点都相互连接\n",
    "- 现阶段GPU做浮点运算很强、流处理器，比CPU强很多了、ARM\n",
    "    - 用硬件电路解决计算问题\n",
    "- 深层网络，反向传播，改变训练方法\n",
    "    - 战士涂层贪婪\n",
    "- 深度神经网络，需要很多数据\n",
    "    - 需要100万级别数据\n",
    "- \n",
    "\n",
    "\n",
    "<br>"
   ]
  },
  {
   "cell_type": "markdown",
   "metadata": {},
   "source": [
    "✅ 现在数据爆炸年代，不缺数据，缺高质量标注数据"
   ]
  },
  {
   "cell_type": "code",
   "execution_count": null,
   "metadata": {},
   "outputs": [],
   "source": []
  }
 ],
 "metadata": {
  "kernelspec": {
   "display_name": "Python 3",
   "language": "python",
   "name": "python3"
  },
  "language_info": {
   "codemirror_mode": {
    "name": "ipython",
    "version": 3
   },
   "file_extension": ".py",
   "mimetype": "text/x-python",
   "name": "python",
   "nbconvert_exporter": "python",
   "pygments_lexer": "ipython3",
   "version": "3.6.5"
  }
 },
 "nbformat": 4,
 "nbformat_minor": 2
}
