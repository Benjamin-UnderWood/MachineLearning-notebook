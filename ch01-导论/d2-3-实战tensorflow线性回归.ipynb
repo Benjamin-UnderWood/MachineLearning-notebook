{
 "cells": [
  {
   "cell_type": "markdown",
   "metadata": {},
   "source": [
    "## 实战tensorflow线性回归"
   ]
  },
  {
   "cell_type": "markdown",
   "metadata": {},
   "source": [
    "- 跑起来就按图流动！\n",
    "- 对tensorflow有一个感性的认识"
   ]
  },
  {
   "cell_type": "code",
   "execution_count": 2,
   "metadata": {},
   "outputs": [],
   "source": [
    "import tensorflow as tf\n",
    "import numpy as np"
   ]
  },
  {
   "cell_type": "code",
   "execution_count": 6,
   "metadata": {},
   "outputs": [],
   "source": [
    "# y = x*0.1 + 0.3\n",
    "x_data = np.float32(np.random.rand(1, 100))\n",
    "y_data = np.dot([0.1], x_data) + 0.3"
   ]
  },
  {
   "cell_type": "code",
   "execution_count": 9,
   "metadata": {},
   "outputs": [],
   "source": [
    "b = tf.Variable(tf.zeros([1]))\n",
    "W = tf.Variable(tf.random_uniform([1, 1], -10., 1.0))\n",
    "y = tf.matmul(W, x_data) + b"
   ]
  },
  {
   "cell_type": "code",
   "execution_count": 12,
   "metadata": {},
   "outputs": [],
   "source": [
    "loss = tf.reduce_mean(tf.square(y - y_data))\n",
    "optimizer = tf.train.GradientDescentOptimizer(0.5)\n",
    "train = optimizer.minimize(loss)\n",
    "\n",
    "# 初始化所有变量\n",
    "init = tf.initialize_all_variables()\n",
    "# global_variables_initializer\n",
    "\n",
    "sess = tf.Session()\n",
    "sess.run(init)"
   ]
  },
  {
   "cell_type": "code",
   "execution_count": 17,
   "metadata": {},
   "outputs": [
    {
     "name": "stdout",
     "output_type": "stream",
     "text": [
      "0 [[-1.0585349]] [0.89127415]\n",
      "20 [[-0.2484017]] [0.47937295]\n",
      "40 [[-0.00496494]] [0.35404068]\n",
      "60 [[0.06837662]] [0.31628114]\n",
      "80 [[0.09047265]] [0.30490512]\n",
      "100 [[0.09712963]] [0.3014778]\n",
      "120 [[0.09913523]] [0.30044523]\n",
      "140 [[0.09973947]] [0.30013412]\n",
      "160 [[0.09992152]] [0.3000404]\n",
      "180 [[0.09997636]] [0.30001217]\n",
      "200 [[0.09999288]] [0.30000368]\n"
     ]
    }
   ],
   "source": [
    "# 迭代训练200次\n",
    "for step in range(0, 201):\n",
    "    sess.run(train)\n",
    "    if step % 20 == 0:\n",
    "        print(step, sess.run(W), sess.run(b))\n",
    "# 无限接近目标值"
   ]
  },
  {
   "cell_type": "markdown",
   "metadata": {},
   "source": [
    "![](images/09-tensorflow-calculate.png)"
   ]
  },
  {
   "cell_type": "markdown",
   "metadata": {},
   "source": []
  }
 ],
 "metadata": {
  "kernelspec": {
   "display_name": "Python 3",
   "language": "python",
   "name": "python3"
  },
  "language_info": {
   "codemirror_mode": {
    "name": "ipython",
    "version": 3
   },
   "file_extension": ".py",
   "mimetype": "text/x-python",
   "name": "python",
   "nbconvert_exporter": "python",
   "pygments_lexer": "ipython3",
   "version": "3.6.4rc1"
  }
 },
 "nbformat": 4,
 "nbformat_minor": 2
}
