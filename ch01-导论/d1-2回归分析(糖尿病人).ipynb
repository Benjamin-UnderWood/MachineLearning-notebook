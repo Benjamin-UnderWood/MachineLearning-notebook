{
 "cells": [
  {
   "cell_type": "markdown",
   "metadata": {},
   "source": [
    "## 实例：线性回归\n",
    "- 预测出连续值\n",
    "- scikit-learn\n",
    "- [糖尿病人数据](http://scikit-learn.org/stable/datasets/index.html#datasets)"
   ]
  },
  {
   "cell_type": "markdown",
   "metadata": {},
   "source": [
    "#### 利用 diabetes(糖尿病人)数据集来学习线性回归\n",
    "- [Linear Regression Example](http://scikit-learn.org/dev/auto_examples/linear_model/plot_ols.html)\n",
    "包括442个病人的生理数据及一年以后的病情发展情况\n",
    "10项特征值如下:  \n",
    "#年龄  \n",
    "#性别  \n",
    "#体质指数  \n",
    "#血压  \n",
    " #s1,s2,s3,s4,s4,s6 (六种血清的化验数据)  \n",
    " \n",
    " sklearn regression\n"
   ]
  },
  {
   "cell_type": "code",
   "execution_count": 3,
   "metadata": {},
   "outputs": [
    {
     "name": "stdout",
     "output_type": "stream",
     "text": [
      "['age', 'sex', 'bmi', 'bp', 's1', 's2', 's3', 's4', 's5', 's6']\n",
      "均方误差是:2548.07\n"
     ]
    },
    {
     "name": "stderr",
     "output_type": "stream",
     "text": [
      "/Users/mgbook/.pyenv/versions/3.6.4rc1/lib/python3.6/site-packages/scipy/linalg/basic.py:1226: RuntimeWarning: internal gelsd driver lwork query error, required iwork dimension not returned. This is likely the result of LAPACK bug 0038, fixed in LAPACK 3.2.2 (released July 21, 2010). Falling back to 'gelss' driver.\n",
      "  warnings.warn(mesg, RuntimeWarning)\n"
     ]
    },
    {
     "data": {
      "image/png": "[encoded data removed]",
      "text/plain": [
       "<matplotlib.figure.Figure at 0x114483c18>"
      ]
     },
     "metadata": {},
     "output_type": "display_data"
    }
   ],
   "source": [
    "import numpy as np\n",
    "import matplotlib.pyplot as plt\n",
    "from sklearn import datasets, linear_model\n",
    "from sklearn.metrics import mean_squared_error, r2_score\n",
    "\n",
    "\n",
    "diabetes = datasets.load_diabetes()\n",
    "print(diabetes.feature_names)\n",
    "\n",
    "# 选择bmi 作为预测的指标(特征)\n",
    "diabetes_X = diabetes.data[:, np.newaxis, 2]\n",
    "\n",
    "# 除了最后20个都是训练集\n",
    "diabetes_X_train = diabetes_X[:-20]\n",
    "# 测试集，来验证最后的机器学习模型\n",
    "diabetes_X_test = diabetes_X[-20:]\n",
    "\n",
    "diabetes_y_train = diabetes.target[:-20]\n",
    "diabetes_y_test = diabetes.target[-20:]\n",
    "\n",
    "# 创建线性回归的分类器\n",
    "regr = linear_model.LinearRegression()\n",
    "regr.fit(diabetes_X_train, diabetes_y_train)\n",
    "\n",
    "# 使用测试数据，让模型生成对应的结果\n",
    "diabetes_y_pred = regr.predict(diabetes_X_test)\n",
    " \n",
    "print('均方误差是:%.2f'%mean_squared_error(diabetes_y_test, diabetes_y_pred))\n",
    "# print(\"Mean squared error: %.2f\" % mean_squared_error(diabetes_y_test, diabetes_y_pred))\n",
    "\n",
    "\n",
    "# Plot outputs\n",
    "plt.scatter(diabetes_X_test, diabetes_y_test,  color='black')\n",
    "plt.plot(diabetes_X_test, diabetes_y_pred, color='blue', linewidth=3)\n",
    "\n",
    "plt.xticks(())\n",
    "plt.yticks(())\n",
    "# plt.title('Linear Regression')\n",
    "plt.title(u'线性回归')\n",
    "plt.show()"
   ]
  },
  {
   "cell_type": "code",
   "execution_count": null,
   "metadata": {},
   "outputs": [],
   "source": [
    "import matplotlib.pyplot as plt\n",
    "import numpy as np\n",
    "from sklearn import datasets, linear_model\n",
    "from sklearn.metrics import mean_squared_error, r2_score\n",
    "\n",
    "# 加载糖尿病数据\n",
    "diabetes = datasets.load_diabetes()\n",
    "\n",
    "# 列举一下特征名称\n",
    "# ['age', 'sex', 'bmi', 'bp', 's1', 's2', 's3', 's4', 's5', 's6']\n",
    "# 年龄，性别，身体质量指数，血压，s1-s6是6中血清的化验数据\n",
    "print(diabetes.feature_names)\n",
    "\n",
    "# 选择bmi作为预测的指标（特征）\n",
    "diabetes_X = diabetes.data[:, np.newaxis, 2]\n",
    "\n",
    "# 除了最后20个都是训练集\n",
    "diabetes_X_train = diabetes_X[:-20]\n",
    "# 最后20个是测试集\n",
    "diabetes_X_test = diabetes_X[-20:]\n",
    "\n",
    "# 训练集的标注结果\n",
    "diabetes_y_train = diabetes.target[:-20]\n",
    "# 测试集的标注结果\n",
    "diabetes_y_test = diabetes.target[-20:]\n",
    "\n",
    "# 创建线性回归分类器\n",
    "regr = linear_model.LinearRegression()\n",
    "# 使用训练数据训练\n",
    "regr.fit(diabetes_X_train, diabetes_y_train)\n",
    "# 使用测试数据，让模型生成对应的结果\n",
    "diabetes_y_pred = regr.predict(diabetes_X_test)\n",
    "\n",
    "# 比较测试集的真实结果与模型的预测结果，使用均方误差作为评估标准\n",
    "print(\"Mean squared error: %.2f\"\n",
    "      % mean_squared_error(diabetes_y_test, diabetes_y_pred))\n",
    "\n",
    "# 画点（真实数据）\n",
    "plt.scatter(diabetes_X_test, diabetes_y_test,  color='black')\n",
    "# 画线（模型的直线）\n",
    "plt.plot(diabetes_X_test, diabetes_y_pred, color='blue', linewidth=3)\n",
    "\n",
    "plt.show()"
   ]
  },
  {
   "cell_type": "code",
   "execution_count": null,
   "metadata": {},
   "outputs": [],
   "source": [
    "print(__doc__)\n",
    "\n",
    "\n",
    "# Code source: Jaques Grobler\n",
    "# License: BSD 3 clause\n",
    "\n",
    "\n",
    "import matplotlib.pyplot as plt\n",
    "import numpy as np\n",
    "from sklearn import datasets, linear_model\n",
    "from sklearn.metrics import mean_squared_error, r2_score\n",
    "\n",
    "# Load the diabetes dataset\n",
    "diabetes = datasets.load_diabetes()\n",
    "\n",
    "\n",
    "# Use only one feature\n",
    "diabetes_X = diabetes.data[:, np.newaxis, 2]\n",
    "\n",
    "# Split the data into training/testing sets\n",
    "diabetes_X_train = diabetes_X[:-20]\n",
    "diabetes_X_test = diabetes_X[-20:]\n",
    "\n",
    "# Split the targets into training/testing sets\n",
    "diabetes_y_train = diabetes.target[:-20]\n",
    "diabetes_y_test = diabetes.target[-20:]\n",
    "\n",
    "# Create linear regression object\n",
    "regr = linear_model.LinearRegression()\n",
    "\n",
    "# Train the model using the training sets\n",
    "regr.fit(diabetes_X_train, diabetes_y_train)\n",
    "\n",
    "# Make predictions using the testing set\n",
    "diabetes_y_pred = regr.predict(diabetes_X_test)\n",
    "\n",
    "# The coefficients\n",
    "print('Coefficients: \\n', regr.coef_)\n",
    "# The mean squared error\n",
    "print(\"Mean squared error: %.2f\"\n",
    "      % mean_squared_error(diabetes_y_test, diabetes_y_pred))\n",
    "# Explained variance score: 1 is perfect prediction\n",
    "print('Variance score: %.2f' % r2_score(diabetes_y_test, diabetes_y_pred))\n",
    "\n",
    "# Plot outputs\n",
    "plt.scatter(diabetes_X_test, diabetes_y_test,  color='black')\n",
    "plt.plot(diabetes_X_test, diabetes_y_pred, color='blue', linewidth=3)\n",
    "\n",
    "plt.xticks(())\n",
    "plt.yticks(())\n",
    "\n",
    "plt.show()"
   ]
  }
 ],
 "metadata": {
  "kernelspec": {
   "display_name": "Python 3",
   "language": "python",
   "name": "python3"
  },
  "language_info": {
   "codemirror_mode": {
    "name": "ipython",
    "version": 3
   },
   "file_extension": ".py",
   "mimetype": "text/x-python",
   "name": "python",
   "nbconvert_exporter": "python",
   "pygments_lexer": "ipython3",
   "version": "3.6.5"
  }
 },
 "nbformat": 4,
 "nbformat_minor": 2
}
