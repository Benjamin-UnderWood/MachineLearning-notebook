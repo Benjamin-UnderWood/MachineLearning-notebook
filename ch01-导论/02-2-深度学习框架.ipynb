{
 "cells": [
  {
   "cell_type": "markdown",
   "metadata": {},
   "source": [
    "## 深度学习框架\n"
   ]
  },
  {
   "cell_type": "markdown",
   "metadata": {},
   "source": [
    "- layer中的点是特征\n",
    "- 人工筛选特征成本高、深度学习能自动学习特征\n",
    "- 利用大量数据帮你在提特征\n",
    "- 能考虑到很多你想不到的特征，把你能想到的特征都考虑进去\n",
    "    - 从人工特征筛选，到自动特征学习\n",
    "- 深度网络学习完筛选特征后，再丢给其他传统的机器学习算法"
   ]
  },
  {
   "cell_type": "markdown",
   "metadata": {},
   "source": [
    "###  Tensorflow\n",
    "- 通用深度学习框架，能做所有的机器学习算法！\n",
    "- 自己做移动断？？\n",
    "- 反向传播、梯度下降，要自己计算微分？t自己做\n",
    "\n",
    "![](images/08-tensorflow-introduce.png)\n",
    "![](images/09-tensorflow-calculate.png)\n",
    "\n",
    "<br><br><br>"
   ]
  },
  {
   "cell_type": "markdown",
   "metadata": {},
   "source": [
    "- 第一代了解下，不用学\n",
    "![](images/05-deep-tens.png)"
   ]
  },
  {
   "cell_type": "markdown",
   "metadata": {},
   "source": [
    "###  Caffe\n",
    "- 中国人，清华，主流框架都和它有关\n",
    "- 快速特征架构的卷积神经网络\n",
    "- 深度学习框架实现原理\n",
    "- protobuf配置文件？？不用！！！\n",
    "![](images/06-caffe.png)\n",
    "![](images/07-caffe-struct.png)"
   ]
  },
  {
   "cell_type": "markdown",
   "metadata": {},
   "source": []
  },
  {
   "cell_type": "markdown",
   "metadata": {},
   "source": []
  }
 ],
 "metadata": {
  "kernelspec": {
   "display_name": "Python 3",
   "language": "python",
   "name": "python3"
  },
  "language_info": {
   "codemirror_mode": {
    "name": "ipython",
    "version": 3
   },
   "file_extension": ".py",
   "mimetype": "text/x-python",
   "name": "python",
   "nbconvert_exporter": "python",
   "pygments_lexer": "ipython3",
   "version": "3.6.5"
  }
 },
 "nbformat": 4,
 "nbformat_minor": 2
}
