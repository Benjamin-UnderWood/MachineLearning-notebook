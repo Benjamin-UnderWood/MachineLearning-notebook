{
 "cells": [
  {
   "cell_type": "markdown",
   "metadata": {},
   "source": [
    "## 分类问题\n",
    "- KNN算法\n",
    "- 民主投票\n",
    "\n",
    "sklearn classification"
   ]
  },
  {
   "cell_type": "markdown",
   "metadata": {},
   "source": []
  },
  {
   "cell_type": "code",
   "execution_count": 21,
   "metadata": {
    "collapsed": true
   },
   "outputs": [],
   "source": [
    "import numpy as np\n",
    "import matplotlib.pyplot as plt\n",
    "from sklearn import neighbors,datasets\n",
    "from matplotlib.colors import ListedColormap"
   ]
  },
  {
   "cell_type": "code",
   "execution_count": 22,
   "metadata": {},
   "outputs": [
    {
     "data": {
      "text/plain": [
       "['DESCR', 'data', 'feature_names', 'target', 'target_names']"
      ]
     },
     "execution_count": 22,
     "metadata": {},
     "output_type": "execute_result"
    }
   ],
   "source": [
    "iris = datasets.load_iris()\n",
    "dir(iris)"
   ]
  },
  {
   "cell_type": "code",
   "execution_count": 23,
   "metadata": {
    "collapsed": true
   },
   "outputs": [],
   "source": [
    "x=iris.data[:,:2]\n",
    "# print(x)\n",
    "y=iris.target\n",
    "step=0.02\n",
    "color_map_back = ListedColormap(['#FF0000', '#00FF00','#0000FF'])\n",
    "color_map_front = ListedColormap(['#FF9999', '#99FF99','#9999FF'])"
   ]
  },
  {
   "cell_type": "code",
   "execution_count": 29,
   "metadata": {
    "collapsed": true
   },
   "outputs": [],
   "source": [
    "def knn_predict(weights):\n",
    "    sample_count = 5\n",
    "    clf=neighbors.KNeighborsClassifier(sample_count, weights=weights)\n",
    "    clf.fit(x,y)\n",
    "    \n",
    "    x_min,x_max = x[:, 0].min() - 1, x[:,0].max() + 1\n",
    "    y_min,y_max = x[:, 1].min() - 1, x[:,1].max() + 1\n",
    "    \n",
    "    x_range, y_range = np.meshgrid(\n",
    "        np.arange(x_min, x_max,step),\n",
    "        np.arange(y_min, y_max,step)\n",
    "    )\n",
    "    \n",
    "#     print(x_range)\n",
    "#     print('\\n')\n",
    "#     print(y_range)\n",
    "    zinput = np.c_[x_range.ravel(), y_range.ravel()]\n",
    "#     print(zinput)\n",
    "    z = clf.predict(zinput)\n",
    "    z = z.reshape(x_range.shape)\n",
    "#     print(z)\n",
    "    plt.figure()\n",
    "    plt.pcolormesh(x_range, y_range, z, cmap=color_map_back)\n",
    "    plt.scatter(x[:,0], x[:,-1], c=y, cmap=color_map_front, edgecolors='k', s=20)\n",
    "    plt.title(weights)\n",
    "    plt.show()\n",
    "    "
   ]
  },
  {
   "cell_type": "code",
   "execution_count": 30,
   "metadata": {
    "scrolled": true
   },
   "outputs": [
    {
     "data": {
      "image/png": "[encoded data removed]",
      "text/plain": [
       "<matplotlib.figure.Figure at 0x20d301c0240>"
      ]
     },
     "metadata": {},
     "output_type": "display_data"
    }
   ],
   "source": [
    "knn_predict('uniform')"
   ]
  },
  {
   "cell_type": "code",
   "execution_count": 31,
   "metadata": {},
   "outputs": [
    {
     "data": {
      "text/plain": [
       "[array([[ 1. ,  1.5],\n",
       "        [ 1. ,  1.5],\n",
       "        [ 1. ,  1.5],\n",
       "        [ 1. ,  1.5]]), array([[ 1. ,  1. ],\n",
       "        [ 1.5,  1.5],\n",
       "        [ 2. ,  2. ],\n",
       "        [ 2.5,  2.5]])]"
      ]
     },
     "execution_count": 31,
     "metadata": {},
     "output_type": "execute_result"
    }
   ],
   "source": [
    "np.meshgrid(\n",
    "        np.arange(1, 2, 0.5),\n",
    "        np.arange(1, 3, 0.5)\n",
    "    )"
   ]
  },
  {
   "cell_type": "code",
   "execution_count": 21,
   "metadata": {
    "collapsed": true
   },
   "outputs": [],
   "source": [
    "# x_range.ravel()\n",
    "# help(np.ravel)"
   ]
  },
  {
   "cell_type": "code",
   "execution_count": 22,
   "metadata": {
    "collapsed": true
   },
   "outputs": [],
   "source": [
    "# help(np.c_)"
   ]
  },
  {
   "cell_type": "code",
   "execution_count": 3,
   "metadata": {
    "collapsed": true
   },
   "outputs": [],
   "source": [
    "# iris.data"
   ]
  },
  {
   "cell_type": "code",
   "execution_count": 34,
   "metadata": {
    "scrolled": true
   },
   "outputs": [
    {
     "data": {
      "text/plain": [
       "array([ 5.1,  4.9,  4.7,  4.6,  5. ,  5.4,  4.6,  5. ,  4.4,  4.9,  5.4,\n",
       "        4.8,  4.8,  4.3,  5.8,  5.7,  5.4,  5.1,  5.7,  5.1,  5.4,  5.1,\n",
       "        4.6,  5.1,  4.8,  5. ,  5. ,  5.2,  5.2,  4.7,  4.8,  5.4,  5.2,\n",
       "        5.5,  4.9,  5. ,  5.5,  4.9,  4.4,  5.1,  5. ,  4.5,  4.4,  5. ,\n",
       "        5.1,  4.8,  5.1,  4.6,  5.3,  5. ,  7. ,  6.4,  6.9,  5.5,  6.5,\n",
       "        5.7,  6.3,  4.9,  6.6,  5.2,  5. ,  5.9,  6. ,  6.1,  5.6,  6.7,\n",
       "        5.6,  5.8,  6.2,  5.6,  5.9,  6.1,  6.3,  6.1,  6.4,  6.6,  6.8,\n",
       "        6.7,  6. ,  5.7,  5.5,  5.5,  5.8,  6. ,  5.4,  6. ,  6.7,  6.3,\n",
       "        5.6,  5.5,  5.5,  6.1,  5.8,  5. ,  5.6,  5.7,  5.7,  6.2,  5.1,\n",
       "        5.7,  6.3,  5.8,  7.1,  6.3,  6.5,  7.6,  4.9,  7.3,  6.7,  7.2,\n",
       "        6.5,  6.4,  6.8,  5.7,  5.8,  6.4,  6.5,  7.7,  7.7,  6. ,  6.9,\n",
       "        5.6,  7.7,  6.3,  6.7,  7.2,  6.2,  6.1,  6.4,  7.2,  7.4,  7.9,\n",
       "        6.4,  6.3,  6.1,  7.7,  6.3,  6.4,  6. ,  6.9,  6.7,  6.9,  5.8,\n",
       "        6.8,  6.7,  6.7,  6.3,  6.5,  6.2,  5.9])"
      ]
     },
     "execution_count": 34,
     "metadata": {},
     "output_type": "execute_result"
    }
   ],
   "source": [
    "iris.data[:,0]"
   ]
  },
  {
   "cell_type": "code",
   "execution_count": 32,
   "metadata": {
    "scrolled": true
   },
   "outputs": [
    {
     "data": {
      "image/png": "[encoded data removed]",
      "text/plain": [
       "<matplotlib.figure.Figure at 0x20d30244518>"
      ]
     },
     "metadata": {},
     "output_type": "display_data"
    }
   ],
   "source": [
    "knn_predict('distance')"
   ]
  },
  {
   "cell_type": "code",
   "execution_count": null,
   "metadata": {},
   "outputs": [],
   "source": [
    "import numpy as np\n",
    "import matplotlib.pyplot as plt\n",
    "from matplotlib.colors import ListedColormap\n",
    "from sklearn import neighbors, datasets\n",
    "\n",
    "iris = datasets.load_iris()\n",
    "\n",
    "x = iris.data[:, :2]\n",
    "y = iris.target\n",
    "step = 0.02\n",
    "\n",
    "color_map_front = ListedColormap(['#FF0000', '#00FF00', '#0000FF'])\n",
    "color_map_back = ListedColormap(['#FF9999', '#99FF99', '#9999FF'])\n",
    "\n",
    "def knn_predict(weights):\n",
    "    sample_count = 5\n",
    "    clf = neighbors.KNeighborsClassifier(sample_count, weights=weights)\n",
    "    clf.fit(x, y)\n",
    "\n",
    "    x_min, x_max = x[:, 0].min() - 1, x[:, 0].max() + 1\n",
    "    y_min, y_max = x[:, 1].min() - 1, x[:, 1].max() + 1\n",
    "\n",
    "    x_range, y_range = np.meshgrid(\n",
    "        np.arange(x_min, x_max, step),\n",
    "        np.arange(y_min, y_max, step)\n",
    "    )\n",
    "\n",
    "    zinput = np.c_[x_range.ravel(), y_range.ravel()]\n",
    "    z = clf.predict(zinput)\n",
    "    z = z.reshape(x_range.shape)\n",
    "\n",
    "    plt.figure()\n",
    "    plt.pcolormesh(x_range, y_range, z, cmap=color_map_back)\n",
    "    plt.scatter(x[:, 0], x[:, 1], c = y, cmap=color_map_front, edgecolors='k', s = 20)\n",
    "\n",
    "    plt.title(weights)\n",
    "    plt.show()\n",
    "\n",
    "knn_predict('uniform')\n",
    "knn_predict('distance')"
   ]
  },
  {
   "cell_type": "markdown",
   "metadata": {},
   "source": [
    "![](images/d1-2.png)"
   ]
  }
 ],
 "metadata": {
  "kernelspec": {
   "display_name": "Python 3",
   "language": "python",
   "name": "python3"
  },
  "language_info": {
   "codemirror_mode": {
    "name": "ipython",
    "version": 3
   },
   "file_extension": ".py",
   "mimetype": "text/x-python",
   "name": "python",
   "nbconvert_exporter": "python",
   "pygments_lexer": "ipython3",
   "version": "3.6.5"
  }
 },
 "nbformat": 4,
 "nbformat_minor": 2
}
