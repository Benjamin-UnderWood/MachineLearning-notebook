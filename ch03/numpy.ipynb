{
 "cells": [
  {
   "cell_type": "markdown",
   "metadata": {},
   "source": [
    "操作 | 说明 \n",
    "---|---\n",
    "a.ndim | 数组的秩\n",
    "a.size | 元素的总个数\n",
    "a.shape | 形状，行列维度\n",
    "a.dtype | 元素类型"
   ]
  },
  {
   "cell_type": "markdown",
   "metadata": {},
   "source": [
    "## 一维数组\n",
    "- 和python数组不一样，只能是同一类型"
   ]
  },
  {
   "cell_type": "code",
   "execution_count": 3,
   "metadata": {},
   "outputs": [
    {
     "data": {
      "text/plain": [
       "'1.13.3'"
      ]
     },
     "execution_count": 3,
     "metadata": {},
     "output_type": "execute_result"
    }
   ],
   "source": [
    "import numpy as np\n",
    "np.__version__"
   ]
  },
  {
   "cell_type": "code",
   "execution_count": 9,
   "metadata": {},
   "outputs": [
    {
     "name": "stdout",
     "output_type": "stream",
     "text": [
      "[0 1 2 3 4 5 6 7 8 9] [0 1 2 3 4 5 6 7 8 9] [0 2 4 6 8]\n"
     ]
    }
   ],
   "source": [
    "a = np.arange(0, 10)\n",
    "b = np.arange(10)\n",
    "c = np.arange(0,10,2)\n",
    "print(a, b, c)"
   ]
  },
  {
   "cell_type": "code",
   "execution_count": 4,
   "metadata": {},
   "outputs": [],
   "source": [
    "a = np.array([0,1,2,3])\n",
    "b = np.array([[1,3,5], [2,4,8]])"
   ]
  },
  {
   "cell_type": "code",
   "execution_count": 5,
   "metadata": {
    "scrolled": false
   },
   "outputs": [
    {
     "name": "stdout",
     "output_type": "stream",
     "text": [
      "[0 1 2 3]\n",
      "[[1 3 5]\n",
      " [2 4 8]]\n",
      "<class 'numpy.ndarray'>\n",
      "[3 2 1 0]\n"
     ]
    }
   ],
   "source": [
    "print(a)\n",
    "print(b)\n",
    "print(type(a))\n",
    "print(a[::-1])"
   ]
  },
  {
   "cell_type": "code",
   "execution_count": null,
   "metadata": {
    "scrolled": false
   },
   "outputs": [],
   "source": [
    "print(a.ndim)\n",
    "print(a.size) # n dimensional array n维数组\n",
    "print(a.shape)"
   ]
  },
  {
   "cell_type": "code",
   "execution_count": null,
   "metadata": {},
   "outputs": [],
   "source": [
    "print(b.ndim)\n",
    "print(b.size)\n",
    "print(b.shape)\n",
    "print(b)"
   ]
  },
  {
   "cell_type": "markdown",
   "metadata": {},
   "source": [
    "## 特殊矩阵\n",
    "功能 | 创建 | 举例\n",
    "--- | --- |---:\n",
    "全0矩阵 | np.zeros((2,3)) | a=np.zeros((2,3))<br>[[ 0.  0.  0.]<br>[ 0.  0.  0.]]\n",
    "全1矩阵 | np.ones((3,3)) | --\n",
    "单位矩阵 | np.eye(2) | 2阶单位矩阵\n",
    "对角矩阵，k为对角线的偏移 | np.diag([1,2,3],k=0)| --"
   ]
  },
  {
   "cell_type": "code",
   "execution_count": 15,
   "metadata": {},
   "outputs": [
    {
     "name": "stdout",
     "output_type": "stream",
     "text": [
      "[[ 0.  0.  0.]\n",
      " [ 0.  0.  0.]]\n",
      "-------------------------\n",
      "[[ 1.  1.  1.]\n",
      " [ 1.  1.  1.]\n",
      " [ 1.  1.  1.]]\n",
      "-------------------------\n",
      "[[ 1.  0.]\n",
      " [ 0.  1.]]\n",
      "-------------------------\n",
      "[[1 0 0]\n",
      " [0 2 0]\n",
      " [0 0 3]]\n"
     ]
    }
   ],
   "source": [
    "print(np.zeros((2,3)))\n",
    "print('-'*25)\n",
    "print(np.ones((3,3)))\n",
    "print('-'*25)\n",
    "print(np.eye(2))\n",
    "print('-'*25)\n",
    "print(np.diag([1,2,3],k=0))\n"
   ]
  },
  {
   "cell_type": "markdown",
   "metadata": {},
   "source": [
    "## 中间数、平均值\n",
    "1. 中间数np.median(a)\n",
    "2. 平均值np.mean(a)\n",
    "#### 若是矩阵，不指定axis默认求所有元素的均值\n",
    "1. axis=0，求列的均值\n",
    "2. axis=1，求行的均值"
   ]
  },
  {
   "cell_type": "code",
   "execution_count": null,
   "metadata": {},
   "outputs": [],
   "source": []
  }
 ],
 "metadata": {
  "kernelspec": {
   "display_name": "Python 3",
   "language": "python",
   "name": "python3"
  },
  "language_info": {
   "codemirror_mode": {
    "name": "ipython",
    "version": 3
   },
   "file_extension": ".py",
   "mimetype": "text/x-python",
   "name": "python",
   "nbconvert_exporter": "python",
   "pygments_lexer": "ipython3",
   "version": "3.6.4rc1"
  }
 },
 "nbformat": 4,
 "nbformat_minor": 2
}
