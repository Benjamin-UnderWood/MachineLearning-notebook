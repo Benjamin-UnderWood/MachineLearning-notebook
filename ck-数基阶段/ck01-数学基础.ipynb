{
 "cells": [
  {
   "cell_type": "markdown",
   "metadata": {},
   "source": [
    "# 数学基础，用到再学\n",
    "- 不是求精确值！容许有误差，不断精进的过程\n",
    "- 使误差最小(损失误差)\n",
    "- 数学是机器学习的内功、代码能力是外功\n",
    "    - 门槛高主要是数学！\n",
    "    - 只当一个工具使用，用到再学，千万不要重头开始学数学\n",
    "    - 有些sb故意让你从基础开始，消耗你的精力！\n"
   ]
  },
  {
   "cell_type": "markdown",
   "metadata": {},
   "source": [
    "- 修炼内功开始\n",
    "- 高中数学 -呼吸吐纳\n",
    "- 大学数学基础 - 打通任督二脉\n",
    "- 机器学习算法 - 打通周身穴道"
   ]
  },
  {
   "cell_type": "markdown",
   "metadata": {},
   "source": [
    "- 输入\n",
    "- 一个盒子，大脑处理，\n",
    "- 输出"
   ]
  },
  {
   "cell_type": "markdown",
   "metadata": {},
   "source": [
    "y^ 猜的，y一把\n",
    "误差，均方差，负号变正号\n",
    "\n",
    "找到w、b的过程，确定参数！！————机器学习的过程！w和b我们学习的目标\n",
    "\n",
    "目标损失最小———损失函数\n",
    "\n",
    "\n",
    "\n",
    "\n",
    "\n"
   ]
  },
  {
   "cell_type": "markdown",
   "metadata": {},
   "source": [
    "## 1.数学符号表示\n",
    "\n",
    "<p align='center'>\n",
    "    <img src='images/01-01.png'/>\n",
    "    <img src='images/01-02.png'/>\n",
    "    <img src='images/01-03.png'/>\n",
    "<!--     <img src='images/01-04.png'/> -->\n",
    "</p>"
   ]
  },
  {
   "cell_type": "markdown",
   "metadata": {},
   "source": []
  },
  {
   "cell_type": "markdown",
   "metadata": {},
   "source": []
  }
 ],
 "metadata": {
  "kernelspec": {
   "display_name": "Python 3",
   "language": "python",
   "name": "python3"
  },
  "language_info": {
   "codemirror_mode": {
    "name": "ipython",
    "version": 3
   },
   "file_extension": ".py",
   "mimetype": "text/x-python",
   "name": "python",
   "nbconvert_exporter": "python",
   "pygments_lexer": "ipython3",
   "version": "3.6.4rc1"
  }
 },
 "nbformat": 4,
 "nbformat_minor": 2
}
