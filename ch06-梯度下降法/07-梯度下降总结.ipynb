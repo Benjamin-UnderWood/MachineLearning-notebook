{
 "cells": [
  {
   "cell_type": "markdown",
   "metadata": {},
   "source": [
    "# 梯度下降法\n",
    "\n",
    "批量梯度下降法`Batch Gradient Descent`：稳定、方向一定是损失函数下降最快的方向！\n",
    "\n",
    "随机梯度下降法`Stochastic Gradient Descent`：计算快、每一次计算方向是不确定的；甚至是向反方向移动\n",
    "\n",
    "小批量梯度下降法`Mini-Batch Gradient Descent`：综合2者优缺点，不那么极端、\n",
    "\n",
    "- 不要看所有样本这么多；\n",
    "- 也不要看一个样本这么少\n",
    "- 看k个样本，k行\n",
    "\n",
    "\n",
    "去2种方法，不那么极端，将2者结合在一起\n",
    "\n",
    "多引入1个超参数"
   ]
  },
  {
   "cell_type": "markdown",
   "metadata": {},
   "source": [
    "## 梯度下降法\n",
    "- 不是一个机器学习算法\n",
    "- 一种基于`搜索的`最优化方法\n",
    "- 作用：最小化一个损失函数\n",
    "- 梯度上升法：最大化一个效用函数\n",
    "\n",
    "\n",
    "最优化一个目标函数"
   ]
  },
  {
   "cell_type": "markdown",
   "metadata": {},
   "source": [
    "## 随机\n",
    "- 跳出局部最优解\n",
    "- 更容易找到损失函数整体的最优解\n",
    "- 更快的运行速度\n",
    "- 随机搜索、随机森林、蒙卡洛树\n",
    "\n",
    "不确定世界中，不确定的问题，本身就可能没有一个固定的最优解 —— 随机有其优势"
   ]
  },
  {
   "cell_type": "markdown",
   "metadata": {},
   "source": [
    "## 梯度上升法"
   ]
  },
  {
   "cell_type": "code",
   "execution_count": null,
   "metadata": {},
   "outputs": [],
   "source": []
  }
 ],
 "metadata": {
  "kernelspec": {
   "display_name": "Python 3",
   "language": "python",
   "name": "python3"
  },
  "language_info": {
   "codemirror_mode": {
    "name": "ipython",
    "version": 3
   },
   "file_extension": ".py",
   "mimetype": "text/x-python",
   "name": "python",
   "nbconvert_exporter": "python",
   "pygments_lexer": "ipython3",
   "version": "3.6.4rc1"
  }
 },
 "nbformat": 4,
 "nbformat_minor": 2
}
