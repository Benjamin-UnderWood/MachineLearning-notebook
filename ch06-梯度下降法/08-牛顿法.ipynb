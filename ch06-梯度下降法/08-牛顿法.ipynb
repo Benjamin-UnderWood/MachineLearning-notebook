{
 "cells": [
  {
   "cell_type": "markdown",
   "metadata": {},
   "source": [
    "## 牛顿法\n",
    "\n",
    "海赛矩阵\n",
    "\n",
    "雅各比矩阵\n",
    "\n",
    "Hessian矩阵非正定的时候，不能保证产生方向是下降方向\n",
    "\n",
    "### 求逆矩阵\n",
    "代数余子式\n",
    "\n",
    "\n",
    "feature > 1000 不适合牛顿法\n",
    "\n",
    "较小时，适合牛顿法\n",
    "\n",
    "\n",
    "牛顿法的矩阵运算很大"
   ]
  },
  {
   "cell_type": "code",
   "execution_count": null,
   "metadata": {},
   "outputs": [],
   "source": []
  }
 ],
 "metadata": {
  "kernelspec": {
   "display_name": "Python 3",
   "language": "python",
   "name": "python3"
  },
  "language_info": {
   "codemirror_mode": {
    "name": "ipython",
    "version": 3
   },
   "file_extension": ".py",
   "mimetype": "text/x-python",
   "name": "python",
   "nbconvert_exporter": "python",
   "pygments_lexer": "ipython3",
   "version": "3.6.4rc1"
  }
 },
 "nbformat": 4,
 "nbformat_minor": 2
}
